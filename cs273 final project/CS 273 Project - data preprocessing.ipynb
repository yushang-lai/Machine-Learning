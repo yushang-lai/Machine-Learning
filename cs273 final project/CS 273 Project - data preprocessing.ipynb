{
 "cells": [
  {
   "cell_type": "code",
   "execution_count": 1,
   "metadata": {},
   "outputs": [],
   "source": [
    "import numpy as np\n",
    "import pandas as pd\n",
    "import re\n",
    "import nltk\n",
    "import matplotlib.pyplot as plt\n",
    "%matplotlib inline\n",
    "import mltools as ml\n",
    "import math\n",
    "import csv"
   ]
  },
  {
   "cell_type": "code",
   "execution_count": 2,
   "metadata": {},
   "outputs": [],
   "source": [
    "from numpy import asarray as arr\n",
    "from numpy import asmatrix as mat\n",
    "from numpy import atleast_2d as twod\n",
    "from itertools import islice"
   ]
  },
  {
   "cell_type": "markdown",
   "metadata": {},
   "source": [
    "### Load data"
   ]
  },
  {
   "cell_type": "code",
   "execution_count": 3,
   "metadata": {},
   "outputs": [],
   "source": [
    "data_train = pd.read_csv('./data/adult.data',delimiter=',',skipinitialspace=True)\n",
    "data_test = pd.read_csv('./data/adult.test',delimiter=',',skipinitialspace=True)"
   ]
  },
  {
   "cell_type": "code",
   "execution_count": 4,
   "metadata": {},
   "outputs": [],
   "source": [
    "orig_keys = data_train.keys()"
   ]
  },
  {
   "cell_type": "code",
   "execution_count": 5,
   "metadata": {},
   "outputs": [
    {
     "name": "stdout",
     "output_type": "stream",
     "text": [
      "number of missing values (age): 0\n",
      "number of missing values (workclass): 1836\n",
      "number of missing values (fnlwgt): 0\n",
      "number of missing values (education): 0\n",
      "number of missing values (education-num): 0\n",
      "number of missing values (marital-status): 0\n",
      "number of missing values (occupation): 1843\n",
      "number of missing values (relationship): 0\n",
      "number of missing values (race): 0\n",
      "number of missing values (sex): 0\n",
      "number of missing values (capital-gain): 0\n",
      "number of missing values (capital-loss): 0\n",
      "number of missing values (hours-per-week): 0\n",
      "number of missing values (native-country): 583\n",
      "number of missing values (salary): 0\n"
     ]
    },
    {
     "name": "stderr",
     "output_type": "stream",
     "text": [
      "/Users/apple/anaconda3/lib/python3.7/site-packages/pandas/core/ops.py:1649: FutureWarning: elementwise comparison failed; returning scalar instead, but in the future will perform elementwise comparison\n",
      "  result = method(y)\n"
     ]
    }
   ],
   "source": [
    "for key in data_train.keys():\n",
    "    n_missing = sum(data_train[key] == '?')\n",
    "    print('number of missing values (%s): %d' % (key, n_missing))"
   ]
  },
  {
   "cell_type": "markdown",
   "metadata": {},
   "source": [
    "### Remove missing data"
   ]
  },
  {
   "cell_type": "code",
   "execution_count": 6,
   "metadata": {},
   "outputs": [],
   "source": [
    "# remove rows with missing values for training data\n",
    "for key in data_train.keys():  \n",
    "    data_train = data_train[data_train[key] != '?']\n",
    "    \n",
    "# remove rows with missing values for test data\n",
    "for key in data_test.keys():  \n",
    "    data_test = data_test[data_test[key] != '?']"
   ]
  },
  {
   "cell_type": "code",
   "execution_count": 7,
   "metadata": {},
   "outputs": [
    {
     "name": "stdout",
     "output_type": "stream",
     "text": [
      "number of train: 30162\n",
      "number of test: 15060\n"
     ]
    }
   ],
   "source": [
    "n_train = len(data_train)\n",
    "n_test = len(data_test)\n",
    "print('number of train: %d' % n_train)\n",
    "print('number of test: %d' % n_test)"
   ]
  },
  {
   "cell_type": "code",
   "execution_count": 8,
   "metadata": {},
   "outputs": [],
   "source": [
    "# concatenate training and test sets to preserve consistency of one-hot encoding transformation\n",
    "data = pd.concat([data_train, data_test],axis=0)"
   ]
  },
  {
   "cell_type": "markdown",
   "metadata": {},
   "source": [
    "### Convert categorical data to binary"
   ]
  },
  {
   "cell_type": "code",
   "execution_count": 9,
   "metadata": {},
   "outputs": [],
   "source": [
    "categorical_columns_all = ['salary', 'sex', 'education', 'workclass', 'marital-status', 'occupation', 'relationship', 'race', 'native-country']"
   ]
  },
  {
   "cell_type": "code",
   "execution_count": 10,
   "metadata": {},
   "outputs": [],
   "source": [
    "# convert salary to binary values\n",
    "salary_labels = data['salary'].unique()\n",
    "for i,l in enumerate(salary_labels):\n",
    "    data.loc[data['salary'] == l,'salary_binary'] = i%2"
   ]
  },
  {
   "cell_type": "code",
   "execution_count": 11,
   "metadata": {},
   "outputs": [],
   "source": [
    "# convert salary to binary values\n",
    "gender_labels = data['sex'].unique()\n",
    "for i,l in enumerate(gender_labels):\n",
    "    data.loc[data['sex'] == l,'sex_binary'] = i"
   ]
  },
  {
   "cell_type": "markdown",
   "metadata": {},
   "source": [
    "### Convert categorical data to ordinal data"
   ]
  },
  {
   "cell_type": "code",
   "execution_count": 12,
   "metadata": {},
   "outputs": [],
   "source": [
    "education_labels_sorted = ['Preschool', '1st-4th', '5th-6th', '7th-8th', '9th', \n",
    "                           '10th', '11th', '12th', 'HS-grad', 'Some-college', 'Assoc-acdm', 'Assoc-voc', \n",
    "                           'Bachelors', 'Masters', 'Prof-school', 'Doctorate']\n",
    "\n",
    "# convert education to ranks\n",
    "for i,l in enumerate(education_labels_sorted):\n",
    "    data.loc[data['education'] == l,'education_ord'] = i"
   ]
  },
  {
   "cell_type": "markdown",
   "metadata": {},
   "source": [
    "### Convert categorical data with one-hot-encoding"
   ]
  },
  {
   "cell_type": "code",
   "execution_count": 13,
   "metadata": {},
   "outputs": [],
   "source": [
    "categorical_columns = ['workclass', 'marital-status', 'occupation', 'relationship', 'race', 'native-country']"
   ]
  },
  {
   "cell_type": "code",
   "execution_count": 14,
   "metadata": {},
   "outputs": [
    {
     "name": "stdout",
     "output_type": "stream",
     "text": [
      "number of added columns (workclass): 7\n",
      "number of added columns (marital-status): 7\n",
      "number of added columns (occupation): 14\n",
      "number of added columns (relationship): 6\n",
      "number of added columns (race): 5\n",
      "number of added columns (native-country): 41\n"
     ]
    }
   ],
   "source": [
    "one_hot_df = pd.DataFrame()\n",
    "for col in categorical_columns:\n",
    "    one_hot_columns = pd.get_dummies(pd.Categorical(data[col]), prefix = col)\n",
    "    print('number of added columns (%s): %d' % (col, one_hot_columns.shape[1]))\n",
    "    one_hot_df = pd.concat([one_hot_df, one_hot_columns], axis=1)"
   ]
  },
  {
   "cell_type": "code",
   "execution_count": 15,
   "metadata": {},
   "outputs": [],
   "source": [
    "data = data.reset_index()\n",
    "\n",
    "data = pd.concat([data, one_hot_df], axis=1)\n",
    "data = data.drop(columns=['index'])"
   ]
  },
  {
   "cell_type": "markdown",
   "metadata": {},
   "source": [
    "### Split data into training and test set according to indices"
   ]
  },
  {
   "cell_type": "code",
   "execution_count": 16,
   "metadata": {},
   "outputs": [],
   "source": [
    "data_train_new = data.iloc[0:n_train]\n",
    "data_test_new = data.iloc[n_train:]"
   ]
  },
  {
   "cell_type": "code",
   "execution_count": 17,
   "metadata": {},
   "outputs": [],
   "source": [
    "data_train_new.to_csv('training_preprocessed.csv')\n",
    "data_test_new.to_csv('test_preprocessed.csv')"
   ]
  }
 ],
 "metadata": {
  "kernelspec": {
   "display_name": "Python 3",
   "language": "python",
   "name": "python3"
  },
  "language_info": {
   "codemirror_mode": {
    "name": "ipython",
    "version": 3
   },
   "file_extension": ".py",
   "mimetype": "text/x-python",
   "name": "python",
   "nbconvert_exporter": "python",
   "pygments_lexer": "ipython3",
   "version": "3.7.4"
  }
 },
 "nbformat": 4,
 "nbformat_minor": 2
}
