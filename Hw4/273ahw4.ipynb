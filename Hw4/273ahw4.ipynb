{
 "cells": [
  {
   "cell_type": "code",
   "execution_count": 46,
   "metadata": {},
   "outputs": [],
   "source": [
    "import numpy as np\n",
    "import matplotlib.pyplot as plt\n",
    "import mltools as ml\n",
    "import math"
   ]
  },
  {
   "cell_type": "markdown",
   "metadata": {},
   "source": [
    "### Problem 1.1"
   ]
  },
  {
   "cell_type": "code",
   "execution_count": 47,
   "metadata": {},
   "outputs": [],
   "source": [
    "X = np.matrix([[0,0,1,1,0,-1],[1,1,0,1,0,-1],[0,1,1,1,1,-1],\n",
    "               [1,1,1,1,0,-1],[0,1,0,0,0,-1],[1,0,1,1,1, 1],\n",
    "               [0,0,1,0,0, 1],[1,0,0,0,0, 1],[1,0,1,1,0, 1],\n",
    "               [1,1,1,1,1,-1]])"
   ]
  },
  {
   "cell_type": "code",
   "execution_count": 48,
   "metadata": {},
   "outputs": [],
   "source": [
    "def calculate_entropy(value):\n",
    "    p1 = np.mean(value>0)\n",
    "    p2 = 1-p1\n",
    "    if p1 ==0:\n",
    "        entropy = p2*np.log2(1/p2)\n",
    "    elif p2==0 :\n",
    "        entropy = p1*np.log2(1/p1)\n",
    "    else:\n",
    "        entropy = p1*np.log2(1/p1)+p2*np.log2(1/p2)\n",
    "    return entropy"
   ]
  },
  {
   "cell_type": "code",
   "execution_count": 49,
   "metadata": {},
   "outputs": [
    {
     "name": "stdout",
     "output_type": "stream",
     "text": [
      "Entropy of class variable H(y) is 0.970951\n"
     ]
    }
   ],
   "source": [
    "Hy = calculate_entropy(X[:,-1])\n",
    "print('Entropy of class variable H(y) is %0.6f' % Hy)"
   ]
  },
  {
   "cell_type": "markdown",
   "metadata": {},
   "source": [
    "### Problem 1.2"
   ]
  },
  {
   "cell_type": "code",
   "execution_count": null,
   "metadata": {},
   "outputs": [],
   "source": []
  },
  {
   "cell_type": "code",
   "execution_count": 50,
   "metadata": {},
   "outputs": [],
   "source": [
    "def calculate_info_gain(feature_index,X,entropy_class,feaure_lst):\n",
    "    ture_pos = X[:,-1][X[:,feature_index-1]>0]\n",
    "    entropy_pos = calculate_entropy(ture_pos)\n",
    "    false_pos = X[:,-1][X[:,feature_index-1]<1]\n",
    "    entropy_false = calculate_entropy(false_pos)\n",
    "    p1 = np.mean(X[:,feature_index-1]>0)\n",
    "    p2 = 1-p1 \n",
    "    info_gain = p1*(entropy_class-entropy_pos)+p2*(entropy_class-entropy_false)\n",
    "    print('information gain for feature {} {} is {} \\n'.format(feature_index,feaure_lst[feature_index-1],info_gain))\n",
    "    print('      entropy true  is: {} \\n      entropy false is: {} \\n'.format((entropy_pos),(entropy_false)))\n",
    "    return info_gain"
   ]
  },
  {
   "cell_type": "code",
   "execution_count": 51,
   "metadata": {},
   "outputs": [
    {
     "name": "stdout",
     "output_type": "stream",
     "text": [
      "information gain for feature 1 know author is 0.04643934467101556 \n",
      "\n",
      "      entropy true  is: 1.0 \n",
      "      entropy false is: 0.8112781244591328 \n",
      "\n",
      "information gain for feature 2 is long is 0.6099865470109875 \n",
      "\n",
      "      entropy true  is: 0.0 \n",
      "      entropy false is: 0.7219280948873623 \n",
      "\n",
      "information gain for feature 3 has research is 0.005802149014345906 \n",
      "\n",
      "      entropy true  is: 0.9852281360342514 \n",
      "      entropy false is: 0.9182958340544893 \n",
      "\n",
      "information gain for feature 4 has grade is 0.0912774462416802 \n",
      "\n",
      "      entropy true  is: 0.8631205685666309 \n",
      "      entropy false is: 0.9182958340544896 \n",
      "\n",
      "information gain for feature 5 has lottery is 0.0058021490143459024 \n",
      "\n",
      "      entropy true  is: 0.9182958340544893 \n",
      "      entropy false is: 0.9852281360342514 \n",
      "\n",
      "largest info index is 2\n"
     ]
    }
   ],
   "source": [
    "feaure_lst = ['know author','is long','has research',\n",
    "             'has grade','has lottery']\n",
    "largest_info_index = 0\n",
    "H = 0\n",
    "for i in range(1,6):\n",
    "    H_new = calculate_info_gain(i,X,Hy,feaure_lst);\n",
    "    if H_new > H:\n",
    "        H = H_new\n",
    "        largest_info_index = i\n",
    "print('largest info index is {}'.format(largest_info_index))"
   ]
  },
  {
   "cell_type": "markdown",
   "metadata": {},
   "source": [
    "I should split feature 2 first, if email is long predict not read"
   ]
  },
  {
   "cell_type": "markdown",
   "metadata": {},
   "source": [
    "### Problem 1.3 "
   ]
  },
  {
   "cell_type": "code",
   "execution_count": 52,
   "metadata": {},
   "outputs": [
    {
     "data": {
      "text/plain": [
       "matrix([[ 0,  0,  1,  1,  0, -1],\n",
       "        [ 1,  0,  1,  1,  1,  1],\n",
       "        [ 0,  0,  1,  0,  0,  1],\n",
       "        [ 1,  0,  0,  0,  0,  1],\n",
       "        [ 1,  0,  1,  1,  0,  1]])"
      ]
     },
     "execution_count": 52,
     "metadata": {},
     "output_type": "execute_result"
    }
   ],
   "source": [
    "X = np.matrix([[0,0,1,1,0,-1],[1,1,0,1,0,-1],[0,1,1,1,1,-1],\n",
    "               [1,1,1,1,0,-1],[0,1,0,0,0,-1],[1,0,1,1,1, 1],\n",
    "               [0,0,1,0,0, 1],[1,0,0,0,0, 1],[1,0,1,1,0, 1],\n",
    "               [1,1,1,1,1,-1]])\n",
    "X_new = np.delete(X,[1,2,3,4,9],0)\n",
    "X_new"
   ]
  },
  {
   "cell_type": "code",
   "execution_count": 53,
   "metadata": {},
   "outputs": [
    {
     "name": "stdout",
     "output_type": "stream",
     "text": [
      "information gain for new feature 1 know author is 0.5709505944546687 \n",
      "\n",
      "      entropy true  is: 0.0 \n",
      "      entropy false is: 1.0 \n",
      "\n",
      "information gain for new feature 2 has research is 0.24902249956730638 \n",
      "\n",
      "      entropy true  is: 0 \n",
      "      entropy false is: 0.7219280948873623 \n",
      "\n",
      "information gain for new feature 3 has grade is 0.3219280948873624 \n",
      "\n",
      "      entropy true  is: 0.8112781244591328 \n",
      "      entropy false is: 0.0 \n",
      "\n",
      "information gain for new feature 4 has lottery is 0.41997309402197497 \n",
      "\n",
      "      entropy true  is: 0.9182958340544896 \n",
      "      entropy false is: 0.0 \n",
      "\n",
      "largest info index is new/old feature 1\n"
     ]
    }
   ],
   "source": [
    "def calculate_info_gain(feature_index,X,entropy_class,feaure_lst):\n",
    "    ture_pos = X[:,-1][X[:,feature_index-1]>0]\n",
    "    if ture_pos.size == 0:\n",
    "        entropy_pos = 0\n",
    "    else:\n",
    "        entropy_pos = calculate_entropy(ture_pos)\n",
    "    false_pos = X[:,-1][X[:,feature_index-1]<1]\n",
    "    if false_pos.size ==0:\n",
    "        entropy_false = 0\n",
    "    else:\n",
    "        entropy_false = calculate_entropy(false_pos)\n",
    "    p1 = np.mean(X[:,feature_index-1]>0)\n",
    "    p2 = 1-p1 \n",
    "    info_gain = p1*(entropy_class-entropy_pos)+p2*(entropy_class-entropy_false)\n",
    "    print('information gain for new feature {} {} is {} \\n'.format(feature_index,feaure_lst[feature_index-1],info_gain))\n",
    "    print('      entropy true  is: {} \\n      entropy false is: {} \\n'.format((entropy_pos),(entropy_false)))\n",
    "    return info_gain\n",
    "\n",
    "feaure_lst = ['know author','has research',\n",
    "             'has grade','has lottery']\n",
    "largest_info_index = 0\n",
    "Hy = calculate_entropy(X[[0,5,3,7,8],-1])\n",
    "H = 0\n",
    "for i in range(1,5):\n",
    "    H_new = calculate_info_gain(i,X_new,Hy,feaure_lst);\n",
    "    if H_new > H:\n",
    "        H = H_new\n",
    "        largest_info_index = i\n",
    "print('largest info index is new/old feature {}'.format(largest_info_index))"
   ]
  },
  {
   "cell_type": "markdown",
   "metadata": {},
   "source": [
    "## Decision Tree"
   ]
  },
  {
   "cell_type": "code",
   "execution_count": 55,
   "metadata": {},
   "outputs": [],
   "source": [
    "X_new_new = np.delete(X_new,[1,3,4],0)\n",
    "X_new_new = np.delete(X_new_new,[0,1],1)\n",
    "X_new_new;"
   ]
  },
  {
   "cell_type": "markdown",
   "metadata": {},
   "source": [
    "### Complete Desicion Tree (verbal version)"
   ]
  },
  {
   "cell_type": "markdown",
   "metadata": {},
   "source": [
    "\n",
    "if X2( is long?) is True:\n",
    "\n",
    "    predict Not Read (since entropy is zero)\n",
    "    \n",
    "elif X2 is False:\n",
    "\n",
    "    if X1(know author?) is True: \n",
    "    \n",
    "        predict Read \n",
    "        \n",
    "    elif X1 is False: \n",
    "        # (note that we only have two raws now as X_new_new shows)\n",
    "        if X4 (has grade) is True:\n",
    "        \n",
    "            predict not read\n",
    "            \n",
    "        elif X4  (has grade) is False:\n",
    "        \n",
    "            predict read\n"
   ]
  },
  {
   "cell_type": "markdown",
   "metadata": {},
   "source": [
    "### Complete Desicion Tree (number version)"
   ]
  },
  {
   "cell_type": "markdown",
   "metadata": {},
   "source": [
    "if X2 == 1:\n",
    "\n",
    "    Y = 0\n",
    "    \n",
    "else:\n",
    "\n",
    "    if X1 == 1:\n",
    "    \n",
    "        Y = 1\n",
    "        \n",
    "    else:\n",
    "    \n",
    "        if X4 == 1:\n",
    "        \n",
    "            Y = 0\n",
    "            \n",
    "        else:\n",
    "        \n",
    "            Y = 1"
   ]
  },
  {
   "cell_type": "markdown",
   "metadata": {},
   "source": [
    "### Problem 2.1"
   ]
  },
  {
   "cell_type": "code",
   "execution_count": 56,
   "metadata": {},
   "outputs": [],
   "source": [
    "import mltools as ml"
   ]
  },
  {
   "cell_type": "code",
   "execution_count": 57,
   "metadata": {},
   "outputs": [],
   "source": [
    "X = np.genfromtxt('data/X_train.txt',delimiter=None)\n",
    "Y = np.genfromtxt('data/Y_train.txt',delimiter=None)\n",
    "# X,Y = ml.shuffleData(X,Y)"
   ]
  },
  {
   "cell_type": "code",
   "execution_count": 62,
   "metadata": {},
   "outputs": [
    {
     "name": "stdout",
     "output_type": "stream",
     "text": [
      "already shuffled\n"
     ]
    },
    {
     "data": {
      "text/plain": [
       "array([1., 0., 0., 0., 0., 1., 1., 1., 1., 0., 0., 1., 1., 1., 1., 0., 0.,\n",
       "       0., 0., 1., 1., 0., 0., 1., 0., 0., 0., 0., 0., 0., 0., 0., 0., 0.,\n",
       "       1., 0., 0., 0., 0., 0., 0., 0., 0., 0., 1., 0., 0., 0., 1., 0., 1.,\n",
       "       0., 0., 0., 0., 0., 0., 1., 1., 1., 0., 0., 1., 0., 1., 0., 0., 0.,\n",
       "       0., 0., 1., 0., 0., 0., 1., 0., 0., 1., 0., 1., 1., 0., 0., 1., 0.,\n",
       "       0., 1., 1., 1., 0., 0., 1., 1., 0., 1., 1., 0., 0., 0., 0.])"
      ]
     },
     "execution_count": 62,
     "metadata": {},
     "output_type": "execute_result"
    }
   ],
   "source": [
    "print('already shuffled')\n",
    "Y[0:100] "
   ]
  },
  {
   "cell_type": "code",
   "execution_count": 63,
   "metadata": {},
   "outputs": [
    {
     "name": "stdout",
     "output_type": "stream",
     "text": [
      "feature 1 minimum  is 197.0\n",
      "feature 1 maximum  is 253.0\n",
      "feature 1 mean     is 241.89897349999998\n",
      "feature 1 variance is 81.19881598129776\n",
      "\n",
      "feature 2 minimum  is 190.0\n",
      "feature 2 maximum  is 248.0\n",
      "feature 2 mean     is 228.38130700000002\n",
      "feature 2 variance is 89.150265341751\n",
      "\n",
      "feature 3 minimum  is 214.97\n",
      "feature 3 maximum  is 252.02\n",
      "feature 3 mean     is 241.90593450000003\n",
      "feature 3 variance is 34.55774434670975\n",
      "\n",
      "feature 4 minimum  is 205.42\n",
      "feature 4 maximum  is 252.02\n",
      "feature 4 mean     is 233.8253765\n",
      "feature 4 variance is 94.50721140824776\n",
      "\n",
      "feature 5 minimum  is 10.0\n",
      "feature 5 maximum  is 17130.0\n",
      "feature 5 mean     is 2849.0465\n",
      "feature 5 variance is 10505588.30063775\n",
      "\n",
      "feature 6 minimum  is 0.0\n",
      "feature 6 maximum  is 12338.0\n",
      "feature 6 mean     is 862.8611\n",
      "feature 6 variance is 3090415.2075067903\n",
      "\n",
      "feature 7 minimum  is 0.0\n",
      "feature 7 maximum  is 9238.0\n",
      "feature 7 mean     is 163.65265\n",
      "feature 7 variance is 698073.3556979776\n",
      "\n",
      "feature 8 minimum  is 0.0\n",
      "feature 8 maximum  is 27.419\n",
      "feature 8 mean     is 3.0557549345\n",
      "feature 8 variance is 7.276890946708305\n",
      "\n",
      "feature 9 minimum  is 1.2189\n",
      "feature 9 maximum  is 18.107\n",
      "feature 9 mean     is 6.311441945\n",
      "feature 9 variance is 6.183003202965116\n",
      "\n",
      "feature 10 minimum  is 0.0\n",
      "feature 10 maximum  is 11.368\n",
      "feature 10 mean     is 1.8939148043499998\n",
      "feature 10 variance is 4.150931810214395\n",
      "\n",
      "feature 11 minimum  is 0.0\n",
      "feature 11 maximum  is 18.771\n",
      "feature 11 mean     is 4.289551351\n",
      "feature 11 variance is 3.944615292538295\n",
      "\n",
      "feature 12 minimum  is 0.0\n",
      "feature 12 maximum  is 14.745\n",
      "feature 12 mean     is 2.7977508345000004\n",
      "feature 12 variance is 1.9323439727669185\n",
      "\n",
      "feature 13 minimum  is 1.0271\n",
      "feature 13 maximum  is 278.71\n",
      "feature 13 mean     is 10.452536635\n",
      "feature 13 variance is 170.00184292005338\n",
      "\n",
      "feature 14 minimum  is -999.9\n",
      "feature 14 maximum  is 769.2\n",
      "feature 14 mean     is 7.65813\n",
      "feature 14 variance is 1528.9473589030997\n",
      "\n"
     ]
    }
   ],
   "source": [
    "for i in range(X.shape[1]):\n",
    "    print(\"feature {} minimum  is {}\".format(i+1,np.min(X[:,i])))\n",
    "    print(\"feature {} maximum  is {}\".format(i+1,np.max(X[:,i])))\n",
    "    print(\"feature {} mean     is {}\".format(i+1,np.mean(X[:,i])))\n",
    "    print(\"feature {} variance is {}\\n\".format(i+1,np.var(X[:,i])))"
   ]
  },
  {
   "cell_type": "code",
   "execution_count": 64,
   "metadata": {},
   "outputs": [
    {
     "data": {
      "text/html": [
       "<div>\n",
       "<style scoped>\n",
       "    .dataframe tbody tr th:only-of-type {\n",
       "        vertical-align: middle;\n",
       "    }\n",
       "\n",
       "    .dataframe tbody tr th {\n",
       "        vertical-align: top;\n",
       "    }\n",
       "\n",
       "    .dataframe thead th {\n",
       "        text-align: right;\n",
       "    }\n",
       "</style>\n",
       "<table border=\"1\" class=\"dataframe\">\n",
       "  <thead>\n",
       "    <tr style=\"text-align: right;\">\n",
       "      <th></th>\n",
       "      <th>feature index</th>\n",
       "      <th>minimum</th>\n",
       "      <th>maximum</th>\n",
       "      <th>mean</th>\n",
       "      <th>var</th>\n",
       "    </tr>\n",
       "  </thead>\n",
       "  <tbody>\n",
       "    <tr>\n",
       "      <th></th>\n",
       "      <td>1</td>\n",
       "      <td>197.0000</td>\n",
       "      <td>253.000</td>\n",
       "      <td>241.898974</td>\n",
       "      <td>8.119882e+01</td>\n",
       "    </tr>\n",
       "    <tr>\n",
       "      <th></th>\n",
       "      <td>2</td>\n",
       "      <td>190.0000</td>\n",
       "      <td>248.000</td>\n",
       "      <td>228.381307</td>\n",
       "      <td>8.915027e+01</td>\n",
       "    </tr>\n",
       "    <tr>\n",
       "      <th></th>\n",
       "      <td>3</td>\n",
       "      <td>214.9700</td>\n",
       "      <td>252.020</td>\n",
       "      <td>241.905935</td>\n",
       "      <td>3.455774e+01</td>\n",
       "    </tr>\n",
       "    <tr>\n",
       "      <th></th>\n",
       "      <td>4</td>\n",
       "      <td>205.4200</td>\n",
       "      <td>252.020</td>\n",
       "      <td>233.825377</td>\n",
       "      <td>9.450721e+01</td>\n",
       "    </tr>\n",
       "    <tr>\n",
       "      <th></th>\n",
       "      <td>5</td>\n",
       "      <td>10.0000</td>\n",
       "      <td>17130.000</td>\n",
       "      <td>2849.046500</td>\n",
       "      <td>1.050559e+07</td>\n",
       "    </tr>\n",
       "    <tr>\n",
       "      <th></th>\n",
       "      <td>6</td>\n",
       "      <td>0.0000</td>\n",
       "      <td>12338.000</td>\n",
       "      <td>862.861100</td>\n",
       "      <td>3.090415e+06</td>\n",
       "    </tr>\n",
       "    <tr>\n",
       "      <th></th>\n",
       "      <td>7</td>\n",
       "      <td>0.0000</td>\n",
       "      <td>9238.000</td>\n",
       "      <td>163.652650</td>\n",
       "      <td>6.980734e+05</td>\n",
       "    </tr>\n",
       "    <tr>\n",
       "      <th></th>\n",
       "      <td>8</td>\n",
       "      <td>0.0000</td>\n",
       "      <td>27.419</td>\n",
       "      <td>3.055755</td>\n",
       "      <td>7.276891e+00</td>\n",
       "    </tr>\n",
       "    <tr>\n",
       "      <th></th>\n",
       "      <td>9</td>\n",
       "      <td>1.2189</td>\n",
       "      <td>18.107</td>\n",
       "      <td>6.311442</td>\n",
       "      <td>6.183003e+00</td>\n",
       "    </tr>\n",
       "    <tr>\n",
       "      <th></th>\n",
       "      <td>10</td>\n",
       "      <td>0.0000</td>\n",
       "      <td>11.368</td>\n",
       "      <td>1.893915</td>\n",
       "      <td>4.150932e+00</td>\n",
       "    </tr>\n",
       "    <tr>\n",
       "      <th></th>\n",
       "      <td>11</td>\n",
       "      <td>0.0000</td>\n",
       "      <td>18.771</td>\n",
       "      <td>4.289551</td>\n",
       "      <td>3.944615e+00</td>\n",
       "    </tr>\n",
       "    <tr>\n",
       "      <th></th>\n",
       "      <td>12</td>\n",
       "      <td>0.0000</td>\n",
       "      <td>14.745</td>\n",
       "      <td>2.797751</td>\n",
       "      <td>1.932344e+00</td>\n",
       "    </tr>\n",
       "    <tr>\n",
       "      <th></th>\n",
       "      <td>13</td>\n",
       "      <td>1.0271</td>\n",
       "      <td>278.710</td>\n",
       "      <td>10.452537</td>\n",
       "      <td>1.700018e+02</td>\n",
       "    </tr>\n",
       "    <tr>\n",
       "      <th></th>\n",
       "      <td>14</td>\n",
       "      <td>-999.9000</td>\n",
       "      <td>769.200</td>\n",
       "      <td>7.658130</td>\n",
       "      <td>1.528947e+03</td>\n",
       "    </tr>\n",
       "  </tbody>\n",
       "</table>\n",
       "</div>"
      ],
      "text/plain": [
       "  feature index   minimum    maximum         mean           var\n",
       "              1  197.0000    253.000   241.898974  8.119882e+01\n",
       "              2  190.0000    248.000   228.381307  8.915027e+01\n",
       "              3  214.9700    252.020   241.905935  3.455774e+01\n",
       "              4  205.4200    252.020   233.825377  9.450721e+01\n",
       "              5   10.0000  17130.000  2849.046500  1.050559e+07\n",
       "              6    0.0000  12338.000   862.861100  3.090415e+06\n",
       "              7    0.0000   9238.000   163.652650  6.980734e+05\n",
       "              8    0.0000     27.419     3.055755  7.276891e+00\n",
       "              9    1.2189     18.107     6.311442  6.183003e+00\n",
       "             10    0.0000     11.368     1.893915  4.150932e+00\n",
       "             11    0.0000     18.771     4.289551  3.944615e+00\n",
       "             12    0.0000     14.745     2.797751  1.932344e+00\n",
       "             13    1.0271    278.710    10.452537  1.700018e+02\n",
       "             14 -999.9000    769.200     7.658130  1.528947e+03"
      ]
     },
     "execution_count": 64,
     "metadata": {},
     "output_type": "execute_result"
    }
   ],
   "source": [
    "import pandas as pd\n",
    "import os\n",
    "new_dataframe = pd.DataFrame(\n",
    "    {\n",
    "        \"feature index\" :range(1,15),\n",
    "        \"minimum\":np.min(X,0),\n",
    "        \"maximum\":np.max(X,0),\n",
    "        \"mean\":np.mean(X,0),\n",
    "        \"var\": np.var(X,0)  \n",
    "    },\n",
    "    index = ['']*len(X[0])\n",
    ")\n",
    "new_dataframe"
   ]
  },
  {
   "cell_type": "markdown",
   "metadata": {},
   "source": [
    "### Problem 2.2 "
   ]
  },
  {
   "cell_type": "code",
   "execution_count": 69,
   "metadata": {},
   "outputs": [],
   "source": [
    "Xtr = X[:10000] # shuffled\n",
    "Ytr = Y[:10000]\n",
    "Xva = X[10000:20000]\n",
    "Yva = Y[10000:20000]\n",
    "learner = ml.dtree.treeClassify(Xtr,Ytr,maxDepth=50)"
   ]
  },
  {
   "cell_type": "code",
   "execution_count": 70,
   "metadata": {},
   "outputs": [
    {
     "name": "stdout",
     "output_type": "stream",
     "text": [
      "Depth 50 Training   error is:  0.0098\n",
      "Depth 50 Validation error is:  0.3801\n"
     ]
    }
   ],
   "source": [
    "print('Depth 50 Training   error is:  {}'.format(learner.err(Xtr,Ytr)))\n",
    "print('Depth 50 Validation error is:  {}'.format(learner.err(Xva,Yva)))"
   ]
  },
  {
   "cell_type": "markdown",
   "metadata": {},
   "source": [
    "### Problem 2.3"
   ]
  },
  {
   "cell_type": "code",
   "execution_count": 71,
   "metadata": {},
   "outputs": [],
   "source": [
    "n = 16\n",
    "Train_err_lst = np.zeros(len(range(0,n)))\n",
    "Vladi_err_lst = np.zeros(len(range(0,n)))"
   ]
  },
  {
   "cell_type": "code",
   "execution_count": 72,
   "metadata": {},
   "outputs": [],
   "source": [
    "for i in range(len(range(0,n))):\n",
    "    learner = ml.dtree.treeClassify(Xtr,Ytr,maxDepth=i)\n",
    "    Train_err_lst[i]=learner.err(Xtr,Ytr)\n",
    "    Vladi_err_lst[i]=learner.err(Xva,Yva)"
   ]
  },
  {
   "cell_type": "code",
   "execution_count": 73,
   "metadata": {},
   "outputs": [
    {
     "data": {
      "text/plain": [
       "Text(0.5,1,'Error Rates versus maxDepth')"
      ]
     },
     "execution_count": 73,
     "metadata": {},
     "output_type": "execute_result"
    },
    {
     "data": {
      "image/png": "[encoded data removed]",
      "text/plain": [
       "<Figure size 648x576 with 1 Axes>"
      ]
     },
     "metadata": {
      "needs_background": "light"
     },
     "output_type": "display_data"
    }
   ],
   "source": [
    "fig,ax = plt.subplots(1,1,figsize=(9,8))\n",
    "ax.plot(range(0,n),Train_err_lst,'ro-')\n",
    "ax.plot(range(0,n),Vladi_err_lst,'bo-')\n",
    "ax.legend([\"Traning Error Rate\",\"Validation Error Rate\"])\n",
    "ax.set_title(\"Error Rates versus maxDepth\",fontsize=15)"
   ]
  },
  {
   "cell_type": "code",
   "execution_count": 79,
   "metadata": {},
   "outputs": [
    {
     "data": {
      "text/html": [
       "<div>\n",
       "<style scoped>\n",
       "    .dataframe tbody tr th:only-of-type {\n",
       "        vertical-align: middle;\n",
       "    }\n",
       "\n",
       "    .dataframe tbody tr th {\n",
       "        vertical-align: top;\n",
       "    }\n",
       "\n",
       "    .dataframe thead th {\n",
       "        text-align: right;\n",
       "    }\n",
       "</style>\n",
       "<table border=\"1\" class=\"dataframe\">\n",
       "  <thead>\n",
       "    <tr style=\"text-align: right;\">\n",
       "      <th></th>\n",
       "      <th>maxDepth</th>\n",
       "      <th>Training Error</th>\n",
       "      <th>Validation Error</th>\n",
       "    </tr>\n",
       "  </thead>\n",
       "  <tbody>\n",
       "    <tr>\n",
       "      <th></th>\n",
       "      <td>0</td>\n",
       "      <td>0.3645</td>\n",
       "      <td>0.3696</td>\n",
       "    </tr>\n",
       "    <tr>\n",
       "      <th></th>\n",
       "      <td>1</td>\n",
       "      <td>0.3358</td>\n",
       "      <td>0.3429</td>\n",
       "    </tr>\n",
       "    <tr>\n",
       "      <th></th>\n",
       "      <td>2</td>\n",
       "      <td>0.3247</td>\n",
       "      <td>0.3333</td>\n",
       "    </tr>\n",
       "    <tr>\n",
       "      <th></th>\n",
       "      <td>3</td>\n",
       "      <td>0.3232</td>\n",
       "      <td>0.3326</td>\n",
       "    </tr>\n",
       "    <tr>\n",
       "      <th></th>\n",
       "      <td>4</td>\n",
       "      <td>0.3114</td>\n",
       "      <td>0.3197</td>\n",
       "    </tr>\n",
       "    <tr>\n",
       "      <th></th>\n",
       "      <td>5</td>\n",
       "      <td>0.3035</td>\n",
       "      <td>0.3226</td>\n",
       "    </tr>\n",
       "    <tr>\n",
       "      <th></th>\n",
       "      <td>6</td>\n",
       "      <td>0.2918</td>\n",
       "      <td>0.3330</td>\n",
       "    </tr>\n",
       "    <tr>\n",
       "      <th></th>\n",
       "      <td>7</td>\n",
       "      <td>0.2809</td>\n",
       "      <td>0.3232</td>\n",
       "    </tr>\n",
       "    <tr>\n",
       "      <th></th>\n",
       "      <td>8</td>\n",
       "      <td>0.2726</td>\n",
       "      <td>0.3237</td>\n",
       "    </tr>\n",
       "    <tr>\n",
       "      <th></th>\n",
       "      <td>9</td>\n",
       "      <td>0.2545</td>\n",
       "      <td>0.3332</td>\n",
       "    </tr>\n",
       "    <tr>\n",
       "      <th></th>\n",
       "      <td>10</td>\n",
       "      <td>0.2391</td>\n",
       "      <td>0.3403</td>\n",
       "    </tr>\n",
       "    <tr>\n",
       "      <th></th>\n",
       "      <td>11</td>\n",
       "      <td>0.2234</td>\n",
       "      <td>0.3395</td>\n",
       "    </tr>\n",
       "    <tr>\n",
       "      <th></th>\n",
       "      <td>12</td>\n",
       "      <td>0.2039</td>\n",
       "      <td>0.3446</td>\n",
       "    </tr>\n",
       "    <tr>\n",
       "      <th></th>\n",
       "      <td>13</td>\n",
       "      <td>0.1802</td>\n",
       "      <td>0.3466</td>\n",
       "    </tr>\n",
       "    <tr>\n",
       "      <th></th>\n",
       "      <td>14</td>\n",
       "      <td>0.1637</td>\n",
       "      <td>0.3501</td>\n",
       "    </tr>\n",
       "    <tr>\n",
       "      <th></th>\n",
       "      <td>15</td>\n",
       "      <td>0.1466</td>\n",
       "      <td>0.3543</td>\n",
       "    </tr>\n",
       "  </tbody>\n",
       "</table>\n",
       "</div>"
      ],
      "text/plain": [
       "  maxDepth  Training Error  Validation Error\n",
       "         0          0.3645            0.3696\n",
       "         1          0.3358            0.3429\n",
       "         2          0.3247            0.3333\n",
       "         3          0.3232            0.3326\n",
       "         4          0.3114            0.3197\n",
       "         5          0.3035            0.3226\n",
       "         6          0.2918            0.3330\n",
       "         7          0.2809            0.3232\n",
       "         8          0.2726            0.3237\n",
       "         9          0.2545            0.3332\n",
       "        10          0.2391            0.3403\n",
       "        11          0.2234            0.3395\n",
       "        12          0.2039            0.3446\n",
       "        13          0.1802            0.3466\n",
       "        14          0.1637            0.3501\n",
       "        15          0.1466            0.3543"
      ]
     },
     "execution_count": 79,
     "metadata": {},
     "output_type": "execute_result"
    }
   ],
   "source": [
    "new_dataframe = pd.DataFrame(\n",
    "    {   \n",
    "        \"maxDepth\": range(0,16),\n",
    "        \"Training Error\" :Train_err_lst,\n",
    "        \"Validation Error\":Vladi_err_lst\n",
    "    },\n",
    "    index = ['']*len(range(0,16))\n",
    ")\n",
    "new_dataframe"
   ]
  },
  {
   "cell_type": "markdown",
   "metadata": {},
   "source": [
    "Model with higer maxDepth has higher complexity.\n",
    "\n",
    "Based on the Validation error MaxDepth = 4 gives the best decision tree model for value range 0,1,2, ..., 15"
   ]
  },
  {
   "cell_type": "markdown",
   "metadata": {},
   "source": [
    "### Problem 2.4 "
   ]
  },
  {
   "cell_type": "code",
   "execution_count": 19,
   "metadata": {},
   "outputs": [],
   "source": [
    "n = 11\n",
    "Train_err_lst_pa = np.zeros(len(range(0,n)))\n",
    "Vladi_err_lst_pa = np.zeros(len(range(0,n)))\n",
    "\n",
    "for i in range(len(range(0,n))):\n",
    "    learner = ml.dtree.treeClassify(Xtr,Ytr,maxDepth=50,minParent = 2**(i+2))\n",
    "    Train_err_lst_pa[i]=learner.err(Xtr,Ytr)\n",
    "    Vladi_err_lst_pa[i]=learner.err(Xva,Yva)"
   ]
  },
  {
   "cell_type": "code",
   "execution_count": 20,
   "metadata": {},
   "outputs": [
    {
     "data": {
      "text/plain": [
       "Text(0,0.5,'Error Rate')"
      ]
     },
     "execution_count": 20,
     "metadata": {},
     "output_type": "execute_result"
    },
    {
     "data": {
      "image/png": "[encoded data removed]",
      "text/plain": [
       "<Figure size 648x576 with 1 Axes>"
      ]
     },
     "metadata": {
      "needs_background": "light"
     },
     "output_type": "display_data"
    }
   ],
   "source": [
    "fig,ax = plt.subplots(1,1,figsize=(9,8))\n",
    "ax.plot(range(2,n+2),Train_err_lst_pa,'ro-')\n",
    "ax.plot(range(2,n+2),Vladi_err_lst_pa,'bo-')\n",
    "ax.legend([\"Traning Error Rate\",\"Validation Error Rate\"])\n",
    "ax.set_title(\"Error Rates versus MinParent\",fontsize=15)\n",
    "plt.xlabel(\"power of 2\",fontsize=15)\n",
    "plt.ylabel(\"Error Rate\",fontsize=15)"
   ]
  },
  {
   "cell_type": "code",
   "execution_count": 81,
   "metadata": {},
   "outputs": [
    {
     "data": {
      "text/html": [
       "<div>\n",
       "<style scoped>\n",
       "    .dataframe tbody tr th:only-of-type {\n",
       "        vertical-align: middle;\n",
       "    }\n",
       "\n",
       "    .dataframe tbody tr th {\n",
       "        vertical-align: top;\n",
       "    }\n",
       "\n",
       "    .dataframe thead th {\n",
       "        text-align: right;\n",
       "    }\n",
       "</style>\n",
       "<table border=\"1\" class=\"dataframe\">\n",
       "  <thead>\n",
       "    <tr style=\"text-align: right;\">\n",
       "      <th></th>\n",
       "      <th>MiniParent Order of 2</th>\n",
       "      <th>Training Error</th>\n",
       "      <th>Validation Error</th>\n",
       "    </tr>\n",
       "  </thead>\n",
       "  <tbody>\n",
       "    <tr>\n",
       "      <th></th>\n",
       "      <td>2</td>\n",
       "      <td>0.0297</td>\n",
       "      <td>0.3776</td>\n",
       "    </tr>\n",
       "    <tr>\n",
       "      <th></th>\n",
       "      <td>3</td>\n",
       "      <td>0.0680</td>\n",
       "      <td>0.3779</td>\n",
       "    </tr>\n",
       "    <tr>\n",
       "      <th></th>\n",
       "      <td>4</td>\n",
       "      <td>0.1252</td>\n",
       "      <td>0.3730</td>\n",
       "    </tr>\n",
       "    <tr>\n",
       "      <th></th>\n",
       "      <td>5</td>\n",
       "      <td>0.1748</td>\n",
       "      <td>0.3633</td>\n",
       "    </tr>\n",
       "    <tr>\n",
       "      <th></th>\n",
       "      <td>6</td>\n",
       "      <td>0.2246</td>\n",
       "      <td>0.3474</td>\n",
       "    </tr>\n",
       "    <tr>\n",
       "      <th></th>\n",
       "      <td>7</td>\n",
       "      <td>0.2605</td>\n",
       "      <td>0.3444</td>\n",
       "    </tr>\n",
       "    <tr>\n",
       "      <th></th>\n",
       "      <td>8</td>\n",
       "      <td>0.2836</td>\n",
       "      <td>0.3345</td>\n",
       "    </tr>\n",
       "    <tr>\n",
       "      <th></th>\n",
       "      <td>9</td>\n",
       "      <td>0.3015</td>\n",
       "      <td>0.3221</td>\n",
       "    </tr>\n",
       "    <tr>\n",
       "      <th></th>\n",
       "      <td>10</td>\n",
       "      <td>0.3152</td>\n",
       "      <td>0.3211</td>\n",
       "    </tr>\n",
       "    <tr>\n",
       "      <th></th>\n",
       "      <td>11</td>\n",
       "      <td>0.3247</td>\n",
       "      <td>0.3333</td>\n",
       "    </tr>\n",
       "    <tr>\n",
       "      <th></th>\n",
       "      <td>12</td>\n",
       "      <td>0.3358</td>\n",
       "      <td>0.3429</td>\n",
       "    </tr>\n",
       "  </tbody>\n",
       "</table>\n",
       "</div>"
      ],
      "text/plain": [
       "  MiniParent Order of 2  Training Error  Validation Error\n",
       "                      2          0.0297            0.3776\n",
       "                      3          0.0680            0.3779\n",
       "                      4          0.1252            0.3730\n",
       "                      5          0.1748            0.3633\n",
       "                      6          0.2246            0.3474\n",
       "                      7          0.2605            0.3444\n",
       "                      8          0.2836            0.3345\n",
       "                      9          0.3015            0.3221\n",
       "                     10          0.3152            0.3211\n",
       "                     11          0.3247            0.3333\n",
       "                     12          0.3358            0.3429"
      ]
     },
     "execution_count": 81,
     "metadata": {},
     "output_type": "execute_result"
    }
   ],
   "source": [
    "new_dataframe = pd.DataFrame(\n",
    "    {   \n",
    "        \"MiniParent Order of 2\": range(2,13),\n",
    "        \"Training Error\" :Train_err_lst_pa,\n",
    "        \"Validation Error\":Vladi_err_lst_pa\n",
    "    },\n",
    "    index = ['']*len(range(2,13))\n",
    ")\n",
    "new_dataframe"
   ]
  },
  {
   "cell_type": "markdown",
   "metadata": {},
   "source": [
    "Models with higher minParent has lower complexity.\n",
    "\n",
    "I will choose minParent = 2^10 for the least validation error as the best decision tree model."
   ]
  },
  {
   "cell_type": "markdown",
   "metadata": {},
   "source": [
    "### Problem 2.5 "
   ]
  },
  {
   "cell_type": "code",
   "execution_count": 82,
   "metadata": {},
   "outputs": [
    {
     "data": {
      "text/plain": [
       "Text(0,0.5,'Error Rate')"
      ]
     },
     "execution_count": 82,
     "metadata": {},
     "output_type": "execute_result"
    },
    {
     "data": {
      "image/png": "[encoded data removed]",
      "text/plain": [
       "<Figure size 648x576 with 1 Axes>"
      ]
     },
     "metadata": {
      "needs_background": "light"
     },
     "output_type": "display_data"
    }
   ],
   "source": [
    "n = 11\n",
    "Train_err_lst_le = np.zeros(len(range(0,n)))\n",
    "Vladi_err_lst_le = np.zeros(len(range(0,n)))\n",
    "\n",
    "for i in range(len(range(0,n))):\n",
    "    learner = ml.dtree.treeClassify(Xtr,Ytr,maxDepth=50,minLeaf = 2**(i+2))\n",
    "    Train_err_lst_le[i]=learner.err(Xtr,Ytr)\n",
    "    Vladi_err_lst_le[i]=learner.err(Xva,Yva)\n",
    "    \n",
    "fig,ax = plt.subplots(1,1,figsize=(9,8))\n",
    "ax.plot(range(2,n+2),Train_err_lst_le,'ro-')\n",
    "ax.plot(range(2,n+2),Vladi_err_lst_le,'bo-')\n",
    "ax.legend([\"Traning Error Rate\",\"Validation Error Rate\"])\n",
    "ax.set_title(\"Error Rates versus MinLeaf\",fontsize=15)\n",
    "plt.xlabel(\"power of 2\",fontsize=15)\n",
    "plt.ylabel(\"Error Rate\",fontsize=15)"
   ]
  },
  {
   "cell_type": "markdown",
   "metadata": {},
   "source": [
    " "
   ]
  },
  {
   "cell_type": "markdown",
   "metadata": {},
   "source": [
    "### Problem 2.6 "
   ]
  },
  {
   "cell_type": "code",
   "execution_count": 84,
   "metadata": {},
   "outputs": [
    {
     "name": "stdout",
     "output_type": "stream",
     "text": [
      "Minumum for Depth     control is :0.3197\n",
      "Minumum for MinParent control is :0.3211\n",
      "Minumum for MinLeaf   control is :0.3237\n"
     ]
    }
   ],
   "source": [
    "print(\"Minumum for Depth     control is :{}\".format(np.min(Vladi_err_lst)))\n",
    "print(\"Minumum for MinParent control is :{}\".format(np.min(Vladi_err_lst_pa)))\n",
    "print(\"Minumum for MinLeaf   control is :{}\".format(np.min(Vladi_err_lst_le)))\n"
   ]
  },
  {
   "cell_type": "markdown",
   "metadata": {},
   "source": [
    "Best Train Model is from Min Depth = 4"
   ]
  },
  {
   "cell_type": "code",
   "execution_count": null,
   "metadata": {},
   "outputs": [],
   "source": []
  },
  {
   "cell_type": "code",
   "execution_count": 87,
   "metadata": {},
   "outputs": [],
   "source": [
    "learner = ml.dtree.treeClassify(Xtr,Ytr,maxDepth=4)\n",
    "fpr, tpr, tnr = learner.roc(Xtr, Ytr)"
   ]
  },
  {
   "cell_type": "code",
   "execution_count": 88,
   "metadata": {},
   "outputs": [
    {
     "data": {
      "text/plain": [
       "Text(0.5,1,'ROC function for Training Data')"
      ]
     },
     "execution_count": 88,
     "metadata": {},
     "output_type": "execute_result"
    },
    {
     "data": {
      "image/png": "[encoded data removed]",
      "text/plain": [
       "<Figure size 432x288 with 1 Axes>"
      ]
     },
     "metadata": {
      "needs_background": "light"
     },
     "output_type": "display_data"
    }
   ],
   "source": [
    "plt.plot(fpr, tpr, 'b-', linewidth = 2)\n",
    "plt.title(\"ROC function for Training Data\")"
   ]
  },
  {
   "cell_type": "code",
   "execution_count": 91,
   "metadata": {},
   "outputs": [
    {
     "data": {
      "text/plain": [
       "Text(0.5,1,'ROC function for Validation Data')"
      ]
     },
     "execution_count": 91,
     "metadata": {},
     "output_type": "execute_result"
    },
    {
     "data": {
      "image/png": "[encoded data removed]",
      "text/plain": [
       "<Figure size 432x288 with 1 Axes>"
      ]
     },
     "metadata": {
      "needs_background": "light"
     },
     "output_type": "display_data"
    }
   ],
   "source": [
    "fpr, tpr, tnr = learner.roc(Xva, Yva)\n",
    "plt.plot(fpr, tpr, 'b-', linewidth = 2)\n",
    "plt.title(\"ROC function for Validation Data\")"
   ]
  },
  {
   "cell_type": "code",
   "execution_count": 92,
   "metadata": {},
   "outputs": [
    {
     "name": "stdout",
     "output_type": "stream",
     "text": [
      "AUC score for training   data is 0.6806329008730151\n",
      "AUC score for Validation data is 0.6621804706899488\n"
     ]
    }
   ],
   "source": [
    "print(\"AUC score for training   data is {}\".format(learner.auc(Xtr, Ytr)))\n",
    "print(\"AUC score for Validation data is {}\".format(learner.auc(Xva, Yva)))"
   ]
  },
  {
   "cell_type": "markdown",
   "metadata": {},
   "source": [
    "### Problem 2.7"
   ]
  },
  {
   "cell_type": "code",
   "execution_count": 121,
   "metadata": {},
   "outputs": [
    {
     "data": {
      "text/plain": [
       "0.3197"
      ]
     },
     "execution_count": 121,
     "metadata": {},
     "output_type": "execute_result"
    }
   ],
   "source": [
    "learner = ml.dtree.treeClassify(Xtr,Ytr,maxDepth=4,minParent =2**8 )\n",
    "learner.err(Xtr,Ytr)\n",
    "learner.err(Xva,Yva)"
   ]
  },
  {
   "cell_type": "code",
   "execution_count": 122,
   "metadata": {},
   "outputs": [],
   "source": [
    "X = np.genfromtxt('data/X_train.txt',delimiter=None)\n",
    "Y = np.genfromtxt('data/Y_train.txt',delimiter=None)\n",
    "# X,Y = ml.shuffleData(X,Y)\n",
    "Xtr,Xte,Ytr,Yte = ml.splitData(X,Y,0.95)"
   ]
  },
  {
   "cell_type": "code",
   "execution_count": 123,
   "metadata": {},
   "outputs": [],
   "source": [
    "learner = ml.dtree.treeClassify(Xtr,Ytr,maxDepth=4,minParent =2**8 )"
   ]
  },
  {
   "cell_type": "code",
   "execution_count": 124,
   "metadata": {},
   "outputs": [
    {
     "data": {
      "text/plain": [
       "Text(0.5,1,'ROC function for Validation Data')"
      ]
     },
     "execution_count": 124,
     "metadata": {},
     "output_type": "execute_result"
    },
    {
     "data": {
      "image/png": "[encoded data removed]",
      "text/plain": [
       "<Figure size 432x288 with 1 Axes>"
      ]
     },
     "metadata": {
      "needs_background": "light"
     },
     "output_type": "display_data"
    }
   ],
   "source": [
    "fpr, tpr, tnr = learner.roc(Xte, Yte)\n",
    "plt.plot(fpr, tpr, 'b-', linewidth = 2)\n",
    "plt.title(\"ROC function for Validation Data\")"
   ]
  },
  {
   "cell_type": "code",
   "execution_count": 126,
   "metadata": {},
   "outputs": [
    {
     "name": "stdout",
     "output_type": "stream",
     "text": [
      "Accuracy rate is 0.332\n",
      "AUC score for Test data is 0.639002574002574\n"
     ]
    }
   ],
   "source": [
    "print('Accuracy rate is {}'.format(learner.err(Xte,Yte)))\n",
    "print(\"AUC score for Test data is {}\".format(learner.auc(Xte, Yte)))"
   ]
  },
  {
   "cell_type": "markdown",
   "metadata": {},
   "source": [
    "## Random Forests"
   ]
  },
  {
   "cell_type": "markdown",
   "metadata": {},
   "source": [
    "### Problem 3.1.1 "
   ]
  },
  {
   "cell_type": "code",
   "execution_count": 137,
   "metadata": {},
   "outputs": [],
   "source": [
    "X = np.genfromtxt('data/X_train.txt',delimiter=None)\n",
    "Y = np.genfromtxt('data/Y_train.txt',delimiter=None)\n",
    "# X,Y = ml.shuffleData(X,Y)\n",
    "Xt ,Xte,Yt ,Yte = ml.splitData(X, Y, 0.9)\n",
    "Xtr,Xva,Ytr,Yva = ml.splitData(Xt,Yt,0.75)\n",
    "m,n = Xtr.shape\n"
   ]
  },
  {
   "cell_type": "code",
   "execution_count": 138,
   "metadata": {},
   "outputs": [],
   "source": [
    "nBag = 150\n",
    "classifiers = [None]*nBag\n",
    "for i in range(nBag):\n",
    "    # ind = np.floor(m*np.random.rand(nUse)).astype(int)\n",
    "    Xi,Yi = ml.bootstrapData(Xtr,Ytr,n_boot=10000)\n",
    "    classifiers[i] = ml.dtree.treeClassify(Xi,Yi,maxDepth=16,minLeaf=4,nFeatures=8)"
   ]
  },
  {
   "cell_type": "code",
   "execution_count": 139,
   "metadata": {},
   "outputs": [],
   "source": [
    "mva = Xva.shape[0]\n",
    "mtr = Xtr.shape[0]\n",
    "predict_va = np.zeros((mva,nBag))\n",
    "predict_tr = np.zeros((mtr,nBag))\n",
    "for i in range(nBag):\n",
    "    predict_va[:,i]=classifiers[i].predict(Xva)\n",
    "    predict_tr[:,i]=classifiers[i].predict(Xtr)"
   ]
  },
  {
   "cell_type": "code",
   "execution_count": 140,
   "metadata": {},
   "outputs": [
    {
     "name": "stderr",
     "output_type": "stream",
     "text": [
      "C:\\Users\\Yushang\\anaconda3\\lib\\site-packages\\numpy\\core\\fromnumeric.py:2920: RuntimeWarning: Mean of empty slice.\n",
      "  out=out, **kwargs)\n",
      "C:\\Users\\Yushang\\anaconda3\\lib\\site-packages\\numpy\\core\\_methods.py:78: RuntimeWarning: invalid value encountered in true_divide\n",
      "  ret, rcount, out=ret, casting='unsafe', subok=False)\n",
      "C:\\Users\\Yushang\\anaconda3\\lib\\site-packages\\ipykernel_launcher.py:5: RuntimeWarning: invalid value encountered in greater\n",
      "  \"\"\"\n",
      "C:\\Users\\Yushang\\anaconda3\\lib\\site-packages\\ipykernel_launcher.py:7: RuntimeWarning: invalid value encountered in greater\n",
      "  import sys\n"
     ]
    }
   ],
   "source": [
    "ensemble_num = range(0,nBag+1)\n",
    "err_va = [None]*len(ensemble_num)\n",
    "err_tr = [None]*len(ensemble_num)\n",
    "for i,num in enumerate(ensemble_num):\n",
    "    predicti  = np.mean(predict_va[:,0:num],axis=1)>0.5\n",
    "    err_va[i] = np.mean(predicti.reshape(Yva.shape)!=Yva)\n",
    "    predicti  = np.mean(predict_tr[:,0:num],axis=1)>0.5\n",
    "    err_tr[i] = np.mean(predicti.reshape(Ytr.shape)!=Ytr)"
   ]
  },
  {
   "cell_type": "code",
   "execution_count": 141,
   "metadata": {},
   "outputs": [
    {
     "data": {
      "text/plain": [
       "array([ 97, 133], dtype=int64)"
      ]
     },
     "execution_count": 141,
     "metadata": {},
     "output_type": "execute_result"
    }
   ],
   "source": [
    "np.argwhere(err_va==np.min(err_va)).flatten()"
   ]
  },
  {
   "cell_type": "markdown",
   "metadata": {},
   "source": [
    "### Problem 3.2"
   ]
  },
  {
   "cell_type": "code",
   "execution_count": 143,
   "metadata": {},
   "outputs": [
    {
     "data": {
      "text/plain": [
       "Text(0,0.5,'Error Rate')"
      ]
     },
     "execution_count": 143,
     "metadata": {},
     "output_type": "execute_result"
    },
    {
     "data": {
      "image/png": "[encoded data removed]",
      "text/plain": [
       "<Figure size 648x576 with 1 Axes>"
      ]
     },
     "metadata": {
      "needs_background": "light"
     },
     "output_type": "display_data"
    }
   ],
   "source": [
    "fig,ax = plt.subplots(1,1,figsize=(9,8))\n",
    "ax.plot(ensemble_num,err_tr,'r-')\n",
    "ax.plot(ensemble_num,err_va,'b-')\n",
    "ax.legend([\"Traning Error Rate\",\"Validation Error Rate\"])\n",
    "ax.set_title(\"Error Rates versus Ensemble Number\",fontsize=15)\n",
    "plt.xlabel(\"Learner Number\",fontsize=15)\n",
    "plt.ylabel(\"Error Rate\",fontsize=15)"
   ]
  },
  {
   "cell_type": "code",
   "execution_count": 147,
   "metadata": {},
   "outputs": [
    {
     "data": {
      "text/html": [
       "<div>\n",
       "<style scoped>\n",
       "    .dataframe tbody tr th:only-of-type {\n",
       "        vertical-align: middle;\n",
       "    }\n",
       "\n",
       "    .dataframe tbody tr th {\n",
       "        vertical-align: top;\n",
       "    }\n",
       "\n",
       "    .dataframe thead th {\n",
       "        text-align: right;\n",
       "    }\n",
       "</style>\n",
       "<table border=\"1\" class=\"dataframe\">\n",
       "  <thead>\n",
       "    <tr style=\"text-align: right;\">\n",
       "      <th></th>\n",
       "      <th>Learner Number</th>\n",
       "      <th>Training Error</th>\n",
       "      <th>Validation Error</th>\n",
       "    </tr>\n",
       "  </thead>\n",
       "  <tbody>\n",
       "    <tr>\n",
       "      <th></th>\n",
       "      <td>0</td>\n",
       "      <td>0.364815</td>\n",
       "      <td>0.372889</td>\n",
       "    </tr>\n",
       "    <tr>\n",
       "      <th></th>\n",
       "      <td>1</td>\n",
       "      <td>0.260074</td>\n",
       "      <td>0.369111</td>\n",
       "    </tr>\n",
       "    <tr>\n",
       "      <th></th>\n",
       "      <td>2</td>\n",
       "      <td>0.254889</td>\n",
       "      <td>0.340444</td>\n",
       "    </tr>\n",
       "    <tr>\n",
       "      <th></th>\n",
       "      <td>3</td>\n",
       "      <td>0.214444</td>\n",
       "      <td>0.332222</td>\n",
       "    </tr>\n",
       "    <tr>\n",
       "      <th></th>\n",
       "      <td>4</td>\n",
       "      <td>0.219630</td>\n",
       "      <td>0.322444</td>\n",
       "    </tr>\n",
       "    <tr>\n",
       "      <th></th>\n",
       "      <td>5</td>\n",
       "      <td>0.195259</td>\n",
       "      <td>0.330444</td>\n",
       "    </tr>\n",
       "    <tr>\n",
       "      <th></th>\n",
       "      <td>6</td>\n",
       "      <td>0.212222</td>\n",
       "      <td>0.321333</td>\n",
       "    </tr>\n",
       "    <tr>\n",
       "      <th></th>\n",
       "      <td>7</td>\n",
       "      <td>0.189556</td>\n",
       "      <td>0.321333</td>\n",
       "    </tr>\n",
       "    <tr>\n",
       "      <th></th>\n",
       "      <td>8</td>\n",
       "      <td>0.200593</td>\n",
       "      <td>0.321333</td>\n",
       "    </tr>\n",
       "    <tr>\n",
       "      <th></th>\n",
       "      <td>9</td>\n",
       "      <td>0.183778</td>\n",
       "      <td>0.320444</td>\n",
       "    </tr>\n",
       "    <tr>\n",
       "      <th></th>\n",
       "      <td>10</td>\n",
       "      <td>0.192000</td>\n",
       "      <td>0.316444</td>\n",
       "    </tr>\n",
       "    <tr>\n",
       "      <th></th>\n",
       "      <td>11</td>\n",
       "      <td>0.177481</td>\n",
       "      <td>0.314889</td>\n",
       "    </tr>\n",
       "    <tr>\n",
       "      <th></th>\n",
       "      <td>12</td>\n",
       "      <td>0.189259</td>\n",
       "      <td>0.314667</td>\n",
       "    </tr>\n",
       "    <tr>\n",
       "      <th></th>\n",
       "      <td>13</td>\n",
       "      <td>0.179259</td>\n",
       "      <td>0.317333</td>\n",
       "    </tr>\n",
       "    <tr>\n",
       "      <th></th>\n",
       "      <td>14</td>\n",
       "      <td>0.186000</td>\n",
       "      <td>0.310444</td>\n",
       "    </tr>\n",
       "    <tr>\n",
       "      <th></th>\n",
       "      <td>15</td>\n",
       "      <td>0.176148</td>\n",
       "      <td>0.312000</td>\n",
       "    </tr>\n",
       "    <tr>\n",
       "      <th></th>\n",
       "      <td>16</td>\n",
       "      <td>0.186444</td>\n",
       "      <td>0.312444</td>\n",
       "    </tr>\n",
       "    <tr>\n",
       "      <th></th>\n",
       "      <td>17</td>\n",
       "      <td>0.177778</td>\n",
       "      <td>0.313111</td>\n",
       "    </tr>\n",
       "    <tr>\n",
       "      <th></th>\n",
       "      <td>18</td>\n",
       "      <td>0.184519</td>\n",
       "      <td>0.317778</td>\n",
       "    </tr>\n",
       "    <tr>\n",
       "      <th></th>\n",
       "      <td>19</td>\n",
       "      <td>0.176444</td>\n",
       "      <td>0.315111</td>\n",
       "    </tr>\n",
       "    <tr>\n",
       "      <th></th>\n",
       "      <td>20</td>\n",
       "      <td>0.184296</td>\n",
       "      <td>0.315778</td>\n",
       "    </tr>\n",
       "    <tr>\n",
       "      <th></th>\n",
       "      <td>21</td>\n",
       "      <td>0.176370</td>\n",
       "      <td>0.315556</td>\n",
       "    </tr>\n",
       "    <tr>\n",
       "      <th></th>\n",
       "      <td>22</td>\n",
       "      <td>0.181704</td>\n",
       "      <td>0.314444</td>\n",
       "    </tr>\n",
       "    <tr>\n",
       "      <th></th>\n",
       "      <td>23</td>\n",
       "      <td>0.174667</td>\n",
       "      <td>0.316222</td>\n",
       "    </tr>\n",
       "    <tr>\n",
       "      <th></th>\n",
       "      <td>24</td>\n",
       "      <td>0.180296</td>\n",
       "      <td>0.312667</td>\n",
       "    </tr>\n",
       "    <tr>\n",
       "      <th></th>\n",
       "      <td>25</td>\n",
       "      <td>0.174148</td>\n",
       "      <td>0.312889</td>\n",
       "    </tr>\n",
       "    <tr>\n",
       "      <th></th>\n",
       "      <td>26</td>\n",
       "      <td>0.179333</td>\n",
       "      <td>0.312889</td>\n",
       "    </tr>\n",
       "    <tr>\n",
       "      <th></th>\n",
       "      <td>27</td>\n",
       "      <td>0.173481</td>\n",
       "      <td>0.315778</td>\n",
       "    </tr>\n",
       "    <tr>\n",
       "      <th></th>\n",
       "      <td>28</td>\n",
       "      <td>0.179778</td>\n",
       "      <td>0.312444</td>\n",
       "    </tr>\n",
       "    <tr>\n",
       "      <th></th>\n",
       "      <td>29</td>\n",
       "      <td>0.173333</td>\n",
       "      <td>0.312667</td>\n",
       "    </tr>\n",
       "    <tr>\n",
       "      <th>...</th>\n",
       "      <td>...</td>\n",
       "      <td>...</td>\n",
       "      <td>...</td>\n",
       "    </tr>\n",
       "    <tr>\n",
       "      <th></th>\n",
       "      <td>121</td>\n",
       "      <td>0.165481</td>\n",
       "      <td>0.302667</td>\n",
       "    </tr>\n",
       "    <tr>\n",
       "      <th></th>\n",
       "      <td>122</td>\n",
       "      <td>0.167407</td>\n",
       "      <td>0.302222</td>\n",
       "    </tr>\n",
       "    <tr>\n",
       "      <th></th>\n",
       "      <td>123</td>\n",
       "      <td>0.166296</td>\n",
       "      <td>0.301333</td>\n",
       "    </tr>\n",
       "    <tr>\n",
       "      <th></th>\n",
       "      <td>124</td>\n",
       "      <td>0.167852</td>\n",
       "      <td>0.301111</td>\n",
       "    </tr>\n",
       "    <tr>\n",
       "      <th></th>\n",
       "      <td>125</td>\n",
       "      <td>0.165556</td>\n",
       "      <td>0.301111</td>\n",
       "    </tr>\n",
       "    <tr>\n",
       "      <th></th>\n",
       "      <td>126</td>\n",
       "      <td>0.167630</td>\n",
       "      <td>0.302889</td>\n",
       "    </tr>\n",
       "    <tr>\n",
       "      <th></th>\n",
       "      <td>127</td>\n",
       "      <td>0.165852</td>\n",
       "      <td>0.301111</td>\n",
       "    </tr>\n",
       "    <tr>\n",
       "      <th></th>\n",
       "      <td>128</td>\n",
       "      <td>0.167630</td>\n",
       "      <td>0.302889</td>\n",
       "    </tr>\n",
       "    <tr>\n",
       "      <th></th>\n",
       "      <td>129</td>\n",
       "      <td>0.166296</td>\n",
       "      <td>0.302222</td>\n",
       "    </tr>\n",
       "    <tr>\n",
       "      <th></th>\n",
       "      <td>130</td>\n",
       "      <td>0.167926</td>\n",
       "      <td>0.302889</td>\n",
       "    </tr>\n",
       "    <tr>\n",
       "      <th></th>\n",
       "      <td>131</td>\n",
       "      <td>0.167111</td>\n",
       "      <td>0.301556</td>\n",
       "    </tr>\n",
       "    <tr>\n",
       "      <th></th>\n",
       "      <td>132</td>\n",
       "      <td>0.167852</td>\n",
       "      <td>0.302667</td>\n",
       "    </tr>\n",
       "    <tr>\n",
       "      <th></th>\n",
       "      <td>133</td>\n",
       "      <td>0.166593</td>\n",
       "      <td>0.300667</td>\n",
       "    </tr>\n",
       "    <tr>\n",
       "      <th></th>\n",
       "      <td>134</td>\n",
       "      <td>0.168000</td>\n",
       "      <td>0.302000</td>\n",
       "    </tr>\n",
       "    <tr>\n",
       "      <th></th>\n",
       "      <td>135</td>\n",
       "      <td>0.166593</td>\n",
       "      <td>0.301778</td>\n",
       "    </tr>\n",
       "    <tr>\n",
       "      <th></th>\n",
       "      <td>136</td>\n",
       "      <td>0.167852</td>\n",
       "      <td>0.302667</td>\n",
       "    </tr>\n",
       "    <tr>\n",
       "      <th></th>\n",
       "      <td>137</td>\n",
       "      <td>0.166148</td>\n",
       "      <td>0.302889</td>\n",
       "    </tr>\n",
       "    <tr>\n",
       "      <th></th>\n",
       "      <td>138</td>\n",
       "      <td>0.167778</td>\n",
       "      <td>0.301556</td>\n",
       "    </tr>\n",
       "    <tr>\n",
       "      <th></th>\n",
       "      <td>139</td>\n",
       "      <td>0.166444</td>\n",
       "      <td>0.301778</td>\n",
       "    </tr>\n",
       "    <tr>\n",
       "      <th></th>\n",
       "      <td>140</td>\n",
       "      <td>0.168074</td>\n",
       "      <td>0.301333</td>\n",
       "    </tr>\n",
       "    <tr>\n",
       "      <th></th>\n",
       "      <td>141</td>\n",
       "      <td>0.166222</td>\n",
       "      <td>0.301778</td>\n",
       "    </tr>\n",
       "    <tr>\n",
       "      <th></th>\n",
       "      <td>142</td>\n",
       "      <td>0.168000</td>\n",
       "      <td>0.301778</td>\n",
       "    </tr>\n",
       "    <tr>\n",
       "      <th></th>\n",
       "      <td>143</td>\n",
       "      <td>0.166370</td>\n",
       "      <td>0.302000</td>\n",
       "    </tr>\n",
       "    <tr>\n",
       "      <th></th>\n",
       "      <td>144</td>\n",
       "      <td>0.168222</td>\n",
       "      <td>0.301778</td>\n",
       "    </tr>\n",
       "    <tr>\n",
       "      <th></th>\n",
       "      <td>145</td>\n",
       "      <td>0.166074</td>\n",
       "      <td>0.301778</td>\n",
       "    </tr>\n",
       "    <tr>\n",
       "      <th></th>\n",
       "      <td>146</td>\n",
       "      <td>0.168000</td>\n",
       "      <td>0.302222</td>\n",
       "    </tr>\n",
       "    <tr>\n",
       "      <th></th>\n",
       "      <td>147</td>\n",
       "      <td>0.166148</td>\n",
       "      <td>0.301556</td>\n",
       "    </tr>\n",
       "    <tr>\n",
       "      <th></th>\n",
       "      <td>148</td>\n",
       "      <td>0.167556</td>\n",
       "      <td>0.301111</td>\n",
       "    </tr>\n",
       "    <tr>\n",
       "      <th></th>\n",
       "      <td>149</td>\n",
       "      <td>0.166593</td>\n",
       "      <td>0.301556</td>\n",
       "    </tr>\n",
       "    <tr>\n",
       "      <th></th>\n",
       "      <td>150</td>\n",
       "      <td>0.167926</td>\n",
       "      <td>0.302222</td>\n",
       "    </tr>\n",
       "  </tbody>\n",
       "</table>\n",
       "<p>151 rows × 3 columns</p>\n",
       "</div>"
      ],
      "text/plain": [
       "    Learner Number  Training Error  Validation Error\n",
       "                 0        0.364815          0.372889\n",
       "                 1        0.260074          0.369111\n",
       "                 2        0.254889          0.340444\n",
       "                 3        0.214444          0.332222\n",
       "                 4        0.219630          0.322444\n",
       "                 5        0.195259          0.330444\n",
       "                 6        0.212222          0.321333\n",
       "                 7        0.189556          0.321333\n",
       "                 8        0.200593          0.321333\n",
       "                 9        0.183778          0.320444\n",
       "                10        0.192000          0.316444\n",
       "                11        0.177481          0.314889\n",
       "                12        0.189259          0.314667\n",
       "                13        0.179259          0.317333\n",
       "                14        0.186000          0.310444\n",
       "                15        0.176148          0.312000\n",
       "                16        0.186444          0.312444\n",
       "                17        0.177778          0.313111\n",
       "                18        0.184519          0.317778\n",
       "                19        0.176444          0.315111\n",
       "                20        0.184296          0.315778\n",
       "                21        0.176370          0.315556\n",
       "                22        0.181704          0.314444\n",
       "                23        0.174667          0.316222\n",
       "                24        0.180296          0.312667\n",
       "                25        0.174148          0.312889\n",
       "                26        0.179333          0.312889\n",
       "                27        0.173481          0.315778\n",
       "                28        0.179778          0.312444\n",
       "                29        0.173333          0.312667\n",
       "..             ...             ...               ...\n",
       "               121        0.165481          0.302667\n",
       "               122        0.167407          0.302222\n",
       "               123        0.166296          0.301333\n",
       "               124        0.167852          0.301111\n",
       "               125        0.165556          0.301111\n",
       "               126        0.167630          0.302889\n",
       "               127        0.165852          0.301111\n",
       "               128        0.167630          0.302889\n",
       "               129        0.166296          0.302222\n",
       "               130        0.167926          0.302889\n",
       "               131        0.167111          0.301556\n",
       "               132        0.167852          0.302667\n",
       "               133        0.166593          0.300667\n",
       "               134        0.168000          0.302000\n",
       "               135        0.166593          0.301778\n",
       "               136        0.167852          0.302667\n",
       "               137        0.166148          0.302889\n",
       "               138        0.167778          0.301556\n",
       "               139        0.166444          0.301778\n",
       "               140        0.168074          0.301333\n",
       "               141        0.166222          0.301778\n",
       "               142        0.168000          0.301778\n",
       "               143        0.166370          0.302000\n",
       "               144        0.168222          0.301778\n",
       "               145        0.166074          0.301778\n",
       "               146        0.168000          0.302222\n",
       "               147        0.166148          0.301556\n",
       "               148        0.167556          0.301111\n",
       "               149        0.166593          0.301556\n",
       "               150        0.167926          0.302222\n",
       "\n",
       "[151 rows x 3 columns]"
      ]
     },
     "execution_count": 147,
     "metadata": {},
     "output_type": "execute_result"
    }
   ],
   "source": [
    "new_dataframe = pd.DataFrame(\n",
    "    {   \n",
    "        \"Learner Number\": range(0,nBag+1),\n",
    "        \"Training Error\" :err_tr,\n",
    "        \"Validation Error\":err_va\n",
    "    },\n",
    "    index = ['']*len(range(0,nBag+1))\n",
    ")\n",
    "new_dataframe"
   ]
  },
  {
   "cell_type": "markdown",
   "metadata": {},
   "source": [
    "### Problem 3.3"
   ]
  },
  {
   "cell_type": "code",
   "execution_count": 148,
   "metadata": {},
   "outputs": [
    {
     "data": {
      "text/plain": [
       "97"
      ]
     },
     "execution_count": 148,
     "metadata": {},
     "output_type": "execute_result"
    }
   ],
   "source": [
    "min_index = ensemble_num[np.argwhere(err_va==np.min(err_va)).flatten()[0]]\n",
    "min_index"
   ]
  },
  {
   "cell_type": "code",
   "execution_count": 149,
   "metadata": {},
   "outputs": [],
   "source": [
    "Xi = Xtr[0:13500]\n",
    "Yi = Ytr[0:13500]\n",
    "nBag = min_index\n",
    "classifiers = [None]*nBag\n",
    "for i in range(nBag):\n",
    "    # ind = np.floor(m*np.random.rand(nUse)).astype(int)\n",
    "    Xi,Yi = ml.bootstrapData(X,Y,n_boot=4000)\n",
    "    classifiers[i] = ml.dtree.treeClassify(Xi,Yi,maxDepth=16,minLeaf=4,nFeatures=8)\n",
    "mte = Xte.shape[0]\n",
    "predict_te = np.zeros((mte,nBag))\n",
    "for i in range(nBag):\n",
    "    predict_te[:,i]=classifiers[i].predict(Xte)\n",
    "predict_te  = np.mean(predict_te,axis=1)>0.5\n",
    "err_te = np.mean(predict_te.reshape(Yte.shape)!=Yte)"
   ]
  },
  {
   "cell_type": "code",
   "execution_count": 151,
   "metadata": {},
   "outputs": [
    {
     "name": "stdout",
     "output_type": "stream",
     "text": [
      " Using 10k training data with ensmble size 97\n",
      " test error is: 0.2465 \n",
      "this error is much less than 0.3192 in problem 2\n"
     ]
    }
   ],
   "source": [
    "print(\" Using 10k training data with ensmble size {}\\n test error is: {} \".format(min_index,err_te))\n",
    "print('this error is much less than 0.3192 in problem 2')"
   ]
  },
  {
   "cell_type": "markdown",
   "metadata": {},
   "source": [
    "This error rate is much smaller than that we got in Problem 2"
   ]
  },
  {
   "cell_type": "markdown",
   "metadata": {},
   "source": [
    "## Option 1 end"
   ]
  },
  {
   "cell_type": "markdown",
   "metadata": {},
   "source": [
    "  "
   ]
  },
  {
   "cell_type": "markdown",
   "metadata": {},
   "source": [
    " \n"
   ]
  },
  {
   "cell_type": "code",
   "execution_count": 42,
   "metadata": {},
   "outputs": [],
   "source": [
    "#X = np.genfromtxt('data/X_train.txt',delimiter=None)\n",
    "#Y = np.genfromtxt('data/Y_train.txt',delimiter=None)\n",
    "#X,Y = ml.shuffleData(X,Y)\n",
    "#Xt ,Xte,Yt ,Yte = ml.splitData(X, Y, 0.9)\n",
    "#Xtr,Xva,Ytr,Yva = ml.splitData(Xt,Yt,0.75)\n",
    "#m,n = Xtr.shape"
   ]
  },
  {
   "cell_type": "markdown",
   "metadata": {},
   "source": [
    "Modify TreeBase\n",
    "\n",
    " def train(self, X, Y, minParent=2, maxDepth=np.inf, minLeaf=1, nFeatures=None):\n",
    " \n",
    " -> \n",
    " \n",
    "  def train(self, X, Y, minParent=2, maxDepth=3, minLeaf=1, nFeatures=None):"
   ]
  },
  {
   "cell_type": "code",
   "execution_count": 43,
   "metadata": {},
   "outputs": [],
   "source": [
    "#from numpy import asarray as arr\n",
    "\n",
    "#def delt(Xc):\n",
    "#    return arr(1/(1+np.exp(-Xc)))\n",
    "#def regressor(learner,Xtr,Ytr):\n",
    "#    Xc = learner.predict(Xtr)\n",
    "#    dY = np.zeros(Ytr.shape)\n",
    "#   dY[Ytr==1] =1-delt(Xc[Ytr==1])\n",
    "#    dY[Ytr!=1] = -delt(Xc[Ytr!=1])\n",
    "#    return dY"
   ]
  },
  {
   "cell_type": "code",
   "execution_count": 44,
   "metadata": {},
   "outputs": [],
   "source": [
    "#nBoost = 25\n",
    "#learner = [None]*nBoost\n",
    "#alpha = [1.0] *nBoost\n",
    "\n",
    "#dY = Ytr-Ytr\n",
    "#dY = 1/(1+np.exp(dY))\n",
    "#\n",
    "#for k in range(nBoost):\n",
    "#    learner[k]=ml.dtree.treeRegress(Xtr,dY)\n",
    "#    alpha[k] =1.0\n",
    " #   dY = dY -alpha[k]*learner[k].predict(Xtr)"
   ]
  },
  {
   "cell_type": "code",
   "execution_count": null,
   "metadata": {},
   "outputs": [],
   "source": []
  },
  {
   "cell_type": "code",
   "execution_count": null,
   "metadata": {},
   "outputs": [],
   "source": []
  },
  {
   "cell_type": "code",
   "execution_count": null,
   "metadata": {},
   "outputs": [],
   "source": []
  },
  {
   "cell_type": "code",
   "execution_count": null,
   "metadata": {},
   "outputs": [],
   "source": []
  },
  {
   "cell_type": "markdown",
   "metadata": {},
   "source": [
    "### Problem 4"
   ]
  },
  {
   "cell_type": "markdown",
   "metadata": {},
   "source": [
    "I did this hw independently"
   ]
  },
  {
   "cell_type": "code",
   "execution_count": null,
   "metadata": {},
   "outputs": [],
   "source": []
  }
 ],
 "metadata": {
  "kernelspec": {
   "display_name": "Python 3",
   "language": "python",
   "name": "python3"
  },
  "language_info": {
   "codemirror_mode": {
    "name": "ipython",
    "version": 3
   },
   "file_extension": ".py",
   "mimetype": "text/x-python",
   "name": "python",
   "nbconvert_exporter": "python",
   "pygments_lexer": "ipython3",
   "version": "3.7.0"
  }
 },
 "nbformat": 4,
 "nbformat_minor": 2
}
